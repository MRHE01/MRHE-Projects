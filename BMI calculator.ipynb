{
 "cells": [
  {
   "cell_type": "markdown",
   "id": "4851ba1f-6544-451d-a7d5-8c69f1b324b7",
   "metadata": {},
   "source": [
    "# BMI Calculator"
   ]
  },
  {
   "cell_type": "code",
   "execution_count": null,
   "id": "8c2becef",
   "metadata": {},
   "outputs": [],
   "source": [
    "Weight = int(input('Enter Your Weight in KG:'))\n",
    "Height = float(input('Enter Your Height in Meter:'))\n",
    "BMI = (Weight) / (Height * Height)\n",
    "print('Your BMI is:', BMI)\n",
    "print('your weight is', Weight)\n",
    "print('your height is', Height)\n",
    "\n",
    "if BMI>0:\n",
    "    if (BMI<=18.5):\n",
    "        print('You are Underweight')\n",
    "    elif (BMI<=24.9):\n",
    "        print('You are Normal Weight')\n",
    "    elif (BMI<=29.9):\n",
    "        print('You are Overweight')\n",
    "    elif (BMI>=30):\n",
    "        print('You are Obese')\n",
    "else:\n",
    "    print(\"Error Please enter appropriate value\")\n"
   ]
  }
 ],
 "metadata": {
  "kernelspec": {
   "display_name": "base",
   "language": "python",
   "name": "python3"
  },
  "language_info": {
   "codemirror_mode": {
    "name": "ipython",
    "version": 3
   },
   "file_extension": ".py",
   "mimetype": "text/x-python",
   "name": "python",
   "nbconvert_exporter": "python",
   "pygments_lexer": "ipython3",
   "version": "3.12.4"
  }
 },
 "nbformat": 4,
 "nbformat_minor": 5
}
