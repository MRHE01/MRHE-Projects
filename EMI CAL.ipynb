{
 "cells": [
  {
   "cell_type": "markdown",
   "metadata": {},
   "source": [
    "# EMI Calculator"
   ]
  },
  {
   "cell_type": "code",
   "execution_count": null,
   "metadata": {},
   "outputs": [],
   "source": [
    "#Inputs:\n",
    "loan=int(input('input loan amount'))\n",
    "year=int(input('input year amount'))\n",
    "interest=int(input('input interest amount'))\n",
    "down_payment=int(input('input down_payment amount'))\n",
    "\n",
    "#Calculations\n",
    "p=loan-down_payment\n",
    "n=(year*12)\n",
    "i=(1+interest)**n\n",
    "emi=(p*i*interest)/(i-1)\n",
    "import ceil from math\n",
    "rounded_emi=ceil(emi)\n",
    "\n",
    "#Outputs\n",
    "print('Loan amount=', loan)\n",
    "print('Year amount=', year)\n",
    "print('Interest amount=', interest)\n",
    "print('down_payment amount=', down_payment)\n",
    "print('Your EMI is=', rounded_emi)"
   ]
  },
  {
   "cell_type": "markdown",
   "metadata": {},
   "source": [
    "# Comparison*********"
   ]
  },
  {
   "cell_type": "code",
   "execution_count": null,
   "metadata": {},
   "outputs": [],
   "source": [
    "#Inputs:\n",
    "loan=int(input('input loan amount'))\n",
    "year=int(input('input year amount'))\n",
    "interest=int(input('input interest amount'))\n",
    "down_payment=int(input('input down_payment amount'))\n",
    "\n",
    "#Calculations\n",
    "p=loan-down_payment\n",
    "n=(year*12)\n",
    "i=(1+interest)**n\n",
    "emi=(p*i*interest)/(i-1)\n",
    "import ceil from math\n",
    "rounded_emi=ceil(emi)\n",
    "\n",
    "#Outputs\n",
    "print('Loan amount=', loan)\n",
    "print('Year amount=', year)\n",
    "print('Interest amount=', interest)\n",
    "print('down_payment amount=', down_payment)\n",
    "print('Your EMI is=', rounded_emi)"
   ]
  }
 ],
 "metadata": {
  "language_info": {
   "name": "python"
  }
 },
 "nbformat": 4,
 "nbformat_minor": 2
}
